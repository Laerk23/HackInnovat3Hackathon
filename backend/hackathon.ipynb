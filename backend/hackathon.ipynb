{
  "nbformat": 4,
  "nbformat_minor": 0,
  "metadata": {
    "colab": {
      "provenance": [],
      "gpuType": "T4"
    },
    "kernelspec": {
      "name": "python3",
      "display_name": "Python 3"
    },
    "language_info": {
      "name": "python"
    }
  },
  "cells": [
    {
      "cell_type": "code",
      "source": [
        "import requests\n",
        "from bs4 import BeautifulSoup\n",
        "\n",
        "def get_hub_info(url, class_to_hub_areas):\n",
        "    html_content = requests.get(url).text\n",
        "    soup = BeautifulSoup(html_content, 'html.parser')\n",
        "    course_cards = soup.find_all(class_='cf-course-card')\n",
        "\n",
        "    for course_card in course_cards:\n",
        "        class_id_span = course_card.find(class_='cf-course-id')\n",
        "        if class_id_span:\n",
        "            class_name = ' '.join(class_id_span.get_text().split())\n",
        "            hub_area_lis = course_card.select('.cf-hub-ind .cf-hub-offerings li')\n",
        "            hub_areas = [li.get_text() for li in hub_area_lis]\n",
        "            class_to_hub_areas[class_name] = hub_areas\n",
        "\n",
        "class_to_hub_areas = {}\n",
        "\n",
        "urls = [\n",
        "    'https://www.bu.edu/hub/hub-courses/philosophical-aesthetic-and-historical-interpretation/',\n",
        "    'https://www.bu.edu/hub/hub-courses/scientific-and-social-inquiry/',\n",
        "    'https://www.bu.edu/hub/hub-courses/quantitative-reasoning/',\n",
        "    'https://www.bu.edu/hub/hub-courses/diversity-civic-engagement-and-global-citizenship/',\n",
        "    'https://www.bu.edu/hub/hub-courses/communication/',\n",
        "    'https://www.bu.edu/hub/hub-courses/intellectual-toolkit/'\n",
        "]\n",
        "\n",
        "for url in urls:\n",
        "    get_hub_info(url, class_to_hub_areas)\n",
        "\n",
        "#bad course\n",
        "del class_to_hub_areas['CAS MS 502']\n",
        "del class_to_hub_areas['CAS LS 309']"
      ],
      "metadata": {
        "id": "PfPkKYiQNv4S"
      },
      "execution_count": 1,
      "outputs": []
    },
    {
      "cell_type": "code",
      "source": [
        "from bs4 import BeautifulSoup\n",
        "import requests\n",
        "\n",
        "major = ['CDS DS 110', 'CDS DS 120', 'CDS DS 121', 'CDS DS 122', 'CDS DS 210', 'CDS DS 310', 'CAS MA 214', 'CDS DS 320', 'CDS DS 340', 'CDS DS 380', 'CAS MA 415', 'CAS CS 506', 'QST BA 476', 'QST BA 305', 'CDS DS 549', 'CDS DS 100', 'CAS WR 120', 'CAS WR 152']\n",
        "\n",
        "req = {}\n",
        "\n",
        "\n",
        "for course in major:\n",
        "    college, sub, num = course.split(' ')\n",
        "\n",
        "    url = f'https://www.bu.edu/phpbin/course-search/search.php?page=w0&pagesize=10&adv=1&nolog=&search_adv_all={college}+{sub}+{num}&yearsem_adv=2024SPRG&credits=*&pathway=&hub_match=all'\n",
        "\n",
        "    html_content = requests.get(url).text\n",
        "\n",
        "    soup = BeautifulSoup(html_content, 'html.parser')\n",
        "    hub_list_ul = soup.find('ul', class_='coursearch-result-hub-list')\n",
        "\n",
        "    if hub_list_ul:\n",
        "        hub_list = [li.get_text().strip() for li in hub_list_ul.find_all('li') if li.get_text()]\n",
        "        req[course] = hub_list\n",
        "    else:\n",
        "        req[course] = []\n"
      ],
      "metadata": {
        "id": "GLQiZGmZXIoC"
      },
      "execution_count": 2,
      "outputs": []
    },
    {
      "cell_type": "code",
      "source": [
        "hub_requirements = {'Philosophical Inquiry and Life’s Meanings': 1, 'Aesthetic Exploration': 1, 'Historical Consciousness': 1, 'Scientific Inquiry I': 1,\n",
        "                    'Social Inquiry I': 1, 'Social Inquiry II': 1, 'Quantitative Reasoning I': 1, 'Quantitative Reasoning II': 1,\n",
        "                    'The Individual in Community': 1, 'Global Citizenship and Intercultural Literacy': 2, 'Ethical Reasoning': 1, 'First-Year Writing Seminar': 1,\n",
        "                    'Writing, Research, and Inquiry': 1, 'Writing-Intensive Course': 2, 'Oral and/or Signed Communication': 1, 'Digital/Multimedia Expression': 1,\n",
        "                    'Critical Thinking': 2, 'Research and Information Literacy': 2, 'Teamwork/Collaboration': 2, 'Creativity/Innovation': 2}\n",
        "#REMOVED SCIENTIFIC INQUIRY II"
      ],
      "metadata": {
        "id": "SMMv0HCYcAm2"
      },
      "execution_count": 3,
      "outputs": []
    },
    {
      "cell_type": "code",
      "source": [
        "def optimize_with_major_classes(major, hub_requirements, req, class_to_hub_areas):\n",
        "    selected_classes = major[:]\n",
        "    unmet_requirements = hub_requirements.copy()\n",
        "\n",
        "    for course in major:\n",
        "        if course in req:\n",
        "            for hub in req[course]:\n",
        "                if hub in unmet_requirements and unmet_requirements[hub] > 0:\n",
        "                    unmet_requirements[hub] -= 1\n",
        "\n",
        "    def class_utility(class_hubs):\n",
        "        return sum(1 for hub in class_hubs if hub in unmet_requirements and unmet_requirements[hub] > 0)\n",
        "\n",
        "    while any(count > 0 for count in unmet_requirements.values()):\n",
        "        combined_classes = {**{k: v for k, v in req.items() if k not in major}, **class_to_hub_areas}\n",
        "        best_class = max(combined_classes.items(), key=lambda x: class_utility(x[1]))\n",
        "\n",
        "        if class_utility(best_class[1]) == 0:\n",
        "            break\n",
        "\n",
        "        selected_classes.append(best_class[0])\n",
        "        for hub in best_class[1]:\n",
        "            if hub in unmet_requirements and unmet_requirements[hub] > 0:\n",
        "                unmet_requirements[hub] -= 1\n",
        "\n",
        "        if best_class[0] in req:\n",
        "            del req[best_class[0]]\n",
        "        else:\n",
        "            del class_to_hub_areas[best_class[0]]\n",
        "\n",
        "    return selected_classes\n",
        "\n",
        "optimized_classes_with_major = optimize_with_major_classes(major, hub_requirements, req, class_to_hub_areas)\n",
        "\n",
        "print(\"Optimized list of classes to fulfill all hub requirements:\")\n",
        "for course in optimized_classes_with_major:\n",
        "    print(course)\n",
        "\n",
        "'''\n",
        "1st\n",
        "CDS DS 110\n",
        "CDS DS 121\n",
        "CDS DS 100\n",
        "CAS WR 120\n",
        "\n",
        "2nd\n",
        "CDS DS 121\n",
        "CDS DS 210\n",
        "CAS MA 214\n",
        "CAS WR 152\n",
        "\n",
        "\n",
        "3rd\n",
        "CDS DS 122\n",
        "CDS DS 310\n",
        "CDS DS 415\n",
        "CAS AH 331\n",
        "\n",
        "\n",
        "4th\n",
        "CDS DS 320\n",
        "CAS CS 506\n",
        "QST BA 305\n",
        "CAS AN 235\n",
        "\n",
        "\n",
        "5th\n",
        "CDS DS 340\n",
        "CDS DS 380\n",
        "QST BA 476\n",
        "CAS JS 348\n",
        "CAS AN 250\n",
        "\n",
        "6th\n",
        "CDS DS 549\n",
        "\n",
        "7th\n",
        "\n",
        "8th\n",
        "'''"
      ],
      "metadata": {
        "colab": {
          "base_uri": "https://localhost:8080/",
          "height": 429
        },
        "id": "PnrMnRSd00OT",
        "outputId": "d77ed61e-7d36-43b5-e0a7-c98bc8ef1c27"
      },
      "execution_count": 4,
      "outputs": [
        {
          "output_type": "stream",
          "name": "stdout",
          "text": [
            "Optimized list of classes to fulfill all hub requirements:\n",
            "CDS DS 110\n",
            "CDS DS 120\n",
            "CDS DS 121\n",
            "CDS DS 122\n",
            "CDS DS 210\n",
            "CDS DS 310\n",
            "CAS MA 214\n",
            "CDS DS 320\n",
            "CDS DS 340\n",
            "CDS DS 380\n",
            "CAS MA 415\n",
            "CAS CS 506\n",
            "QST BA 476\n",
            "QST BA 305\n",
            "CDS DS 549\n",
            "CDS DS 100\n",
            "CAS WR 120\n",
            "CAS WR 152\n",
            "CAS AH 331\n",
            "CAS AN 235\n",
            "CAS JS 348\n",
            "CAS AN 250\n"
          ]
        },
        {
          "output_type": "execute_result",
          "data": {
            "text/plain": [
              "'\\n1st\\nCDS DS 110\\nCDS DS 121\\nCDS DS 100\\nCAS WR 120\\n\\n2nd\\nCDS DS 121\\nCDS DS 210\\nCAS MA 214\\nCAS WR 152\\n\\n\\n3rd\\nCDS DS 122\\nCDS DS 310\\nCDS DS 415\\n\\n\\n\\n4th\\nCDS DS 320\\nCAS CS 506\\nQST BA 305\\n\\n\\n5th\\nCDS DS 340\\nCDS DS 380\\nQST BA 476\\n\\n6th\\nCDS DS 549\\n\\n7th\\n\\n8th\\n'"
            ],
            "application/vnd.google.colaboratory.intrinsic+json": {
              "type": "string"
            }
          },
          "metadata": {},
          "execution_count": 4
        }
      ]
    },
    {
      "cell_type": "code",
      "source": [
        "def checker(req, class_to_hub_areas, optimized_classes_with_major, hub_requirements):\n",
        "    sanitized_hub_requirements = {key.strip().lower(): value for key, value in hub_requirements.items()}\n",
        "    hubs_tally = {key: 0 for key in sanitized_hub_requirements}\n",
        "\n",
        "    hub_classes = [key for key in optimized_classes_with_major if key not in req]\n",
        "\n",
        "    for class_name in hub_classes:\n",
        "        if class_name in class_to_hub_areas:\n",
        "            sanitized_hubs = [hub.strip().lower() for hub in class_to_hub_areas[class_name]]\n",
        "            req[class_name] = sanitized_hubs\n",
        "\n",
        "    for class_name, hubs in req.items():\n",
        "        for hub in hubs:\n",
        "            sanitized_hub = hub.strip().lower()\n",
        "            if sanitized_hub in hubs_tally:\n",
        "                hubs_tally[sanitized_hub] += 1\n",
        "\n",
        "    for key, value in sanitized_hub_requirements.items():\n",
        "        if hubs_tally.get(key, 0) >= value:\n",
        "            print(f\"Requirement '{key}' met: {hubs_tally.get(key, 0)} / {value}\")\n",
        "\n",
        "checker(req, class_to_hub_areas, optimized_classes_with_major, hub_requirements)\n"
      ],
      "metadata": {
        "colab": {
          "base_uri": "https://localhost:8080/"
        },
        "id": "Ka9SPu_q8wVU",
        "outputId": "d8ef2044-fbc8-44ca-8df0-0bec6cb48801"
      },
      "execution_count": 5,
      "outputs": [
        {
          "output_type": "stream",
          "name": "stdout",
          "text": [
            "Requirement 'social inquiry i' met: 1 / 1\n",
            "Requirement 'social inquiry ii' met: 1 / 1\n",
            "Requirement 'quantitative reasoning i' met: 3 / 1\n",
            "Requirement 'quantitative reasoning ii' met: 6 / 1\n",
            "Requirement 'ethical reasoning' met: 3 / 1\n",
            "Requirement 'first-year writing seminar' met: 1 / 1\n",
            "Requirement 'writing, research, and inquiry' met: 1 / 1\n",
            "Requirement 'digital/multimedia expression' met: 4 / 1\n",
            "Requirement 'critical thinking' met: 7 / 2\n",
            "Requirement 'research and information literacy' met: 5 / 2\n",
            "Requirement 'teamwork/collaboration' met: 4 / 2\n"
          ]
        }
      ]
    }
  ]
}